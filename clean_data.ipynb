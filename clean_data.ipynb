{
 "cells": [
  {
   "cell_type": "markdown",
   "id": "84b32c51",
   "metadata": {},
   "source": [
    "Author: Yadpreet Cheema\n",
    "script to clean data set from UBC energy centre"
   ]
  },
  {
   "cell_type": "code",
   "execution_count": null,
   "id": "d855165e",
   "metadata": {
    "lines_to_next_cell": 1
   },
   "outputs": [],
   "source": [
    "import pandas as pd\n",
    "import numpy as np"
   ]
  },
  {
   "cell_type": "code",
   "execution_count": null,
   "id": "1dbc368d",
   "metadata": {
    "lines_to_next_cell": 1
   },
   "outputs": [],
   "source": [
    "##Helper Functions\n",
    "#checks if a character is a superscript\n",
    "def is_superscript(char):\n",
    "    superscript_chars = '⁰¹²³⁴⁵⁶⁷⁸⁹'\n",
    "    return char in superscript_chars"
   ]
  },
  {
   "cell_type": "code",
   "execution_count": null,
   "id": "94c4f46b",
   "metadata": {
    "lines_to_next_cell": 1
   },
   "outputs": [],
   "source": [
    "#returns data only containing digits, '.', '-', or 'E'\n",
    "def clean_cell_data(data):\n",
    "    data_str = str(data)\n",
    "    # Ensure that only digits, '.', '-', 'E' are included\n",
    "    cleaned_data = ''.join([i for i in data_str if i.isdigit() and not is_superscript(i) or i in ('.', '-', 'E')])\n",
    "    # Convert the cleaned string to numeric, handling errors by coercing to NaN\n",
    "    return pd.to_numeric(cleaned_data, errors='coerce')"
   ]
  },
  {
   "cell_type": "code",
   "execution_count": null,
   "id": "7a3b6e45",
   "metadata": {},
   "outputs": [],
   "source": [
    "#returns string of units for data in given column\n",
    "def extract_units(value):\n",
    "    return ''.join([i for i in value  if not(i.isdigit() and not is_superscript(i) or i=='.' or i=='-' or i==\"E\" or i==\"Â\")]).strip()"
   ]
  },
  {
   "cell_type": "code",
   "execution_count": null,
   "id": "78ea3f4b",
   "metadata": {},
   "outputs": [],
   "source": []
  },
  {
   "cell_type": "code",
   "execution_count": null,
   "id": "09bc1ba9",
   "metadata": {},
   "outputs": [],
   "source": [
    "# read the CSV file\n",
    "df = pd.read_csv('CEC_Data_2021.csv')"
   ]
  },
  {
   "cell_type": "code",
   "execution_count": null,
   "id": "95e9d181",
   "metadata": {},
   "outputs": [],
   "source": [
    "# remove the ' Rel' from the timestamp strings\n",
    "df['Timestamp'] = df['Timestamp'].str.replace(' Rel', '')"
   ]
  },
  {
   "cell_type": "code",
   "execution_count": null,
   "id": "b6445f0e",
   "metadata": {},
   "outputs": [],
   "source": [
    "# convert to datetime\n",
    "df['Timestamp'] = pd.to_datetime(df['Timestamp'], utc=True)"
   ]
  },
  {
   "cell_type": "code",
   "execution_count": null,
   "id": "bd4dc291",
   "metadata": {},
   "outputs": [],
   "source": [
    "#takes the 'Timestamp' column of the DataFrame df and makes it the new index (row labels) of the DataFrame\n",
    "df.set_index('Timestamp', inplace=True)"
   ]
  },
  {
   "cell_type": "code",
   "execution_count": null,
   "id": "70fd5950",
   "metadata": {
    "lines_to_next_cell": 2
   },
   "outputs": [],
   "source": [
    "# rename columns to include units\n",
    "for column in df.columns:\n",
    "    # extract the first non-null value in the column to use it to determine units for data in column\n",
    "    first_value = df[column].dropna().iloc[0]\n",
    "    \n",
    "    #store units for column in variable\n",
    "    unit=extract_units(first_value)\n",
    "\n",
    "    # create a new column name that includes the unit string \n",
    "    new_column_name = f\"{column} ({unit})\"\n",
    "    \n",
    "    # Rename the column in the dataframe with units included\n",
    "    df.rename(columns={column: new_column_name}, inplace=True)"
   ]
  },
  {
   "cell_type": "code",
   "execution_count": null,
   "id": "4e52be6c",
   "metadata": {},
   "outputs": [],
   "source": [
    "# Apply the clean_cell_data function to every element in the DataFrame to remove units from data cells\n",
    "df = df.applymap(clean_cell_data)"
   ]
  },
  {
   "cell_type": "code",
   "execution_count": null,
   "id": "09c1d7fd",
   "metadata": {},
   "outputs": [],
   "source": [
    "# Save the dataframe with remove units to be used to determine which dataframe is best\n",
    "df.to_csv('Removed_Units_CEC_Data_2021.csv')"
   ]
  },
  {
   "cell_type": "code",
   "execution_count": null,
   "id": "1590b168",
   "metadata": {},
   "outputs": [],
   "source": [
    "#Forward fill with a limit of 2\n",
    "df = df.fillna(method='ffill', limit=2)"
   ]
  },
  {
   "cell_type": "code",
   "execution_count": null,
   "id": "aa5a0856",
   "metadata": {},
   "outputs": [],
   "source": [
    "#delete rows that still have nan (ie. columns where 3 or more consecutive missing data)\n",
    "df = df.dropna()"
   ]
  },
  {
   "cell_type": "code",
   "execution_count": null,
   "id": "4864a677",
   "metadata": {
    "lines_to_next_cell": 1
   },
   "outputs": [],
   "source": [
    "def check_threshold(cell, column):\n",
    "    if 'UBC Temp' in column: #threshold for ambient ubc temperature\n",
    "        lower_bound = -40\n",
    "        upper_bound = 40\n",
    "    if '°C' in column and 'UBC Temp' not in column: #thresholds for temps part of process and not ambient ubc temperature\n",
    "        lower_bound = 0\n",
    "        upper_bound = 300\n",
    "    elif \"%\" in column:\n",
    "        lower_bound = 0\n",
    "        upper_bound = 100\n",
    "    elif 'ppm' in column:\n",
    "        lower_bound = 0\n",
    "        upper_bound = 500\n",
    "    elif 'MWh' in column:\n",
    "        lower_bound = 0\n",
    "        upper_bound = 100\n",
    "    elif 'L/s' in column:\n",
    "        lower_bound = 0\n",
    "        upper_bound = 500\n",
    "    elif 'm³/h' in column:\n",
    "        lower_bound = 0\n",
    "        upper_bound = 2000\n",
    "    elif 'MW' in column:\n",
    "        lower_bound = 0\n",
    "        upper_bound = 100\n",
    "    elif 'kPa' in column:\n",
    "        lower_bound = 0\n",
    "        upper_bound = 300\n",
    "    else:\n",
    "        return cell\n",
    "    if cell < lower_bound or cell > upper_bound:\n",
    "        return np.nan\n",
    "    else:\n",
    "        return cell "
   ]
  },
  {
   "cell_type": "code",
   "execution_count": null,
   "id": "6a79fa6b",
   "metadata": {},
   "outputs": [],
   "source": [
    "# Apply check_threshold element-wise\n",
    "for column in df.columns:\n",
    "    df[column] = df.apply(lambda row: check_threshold(row[column], column), axis=1)"
   ]
  },
  {
   "cell_type": "code",
   "execution_count": null,
   "id": "d6772c65",
   "metadata": {},
   "outputs": [],
   "source": [
    "# Now, drop any rows that have NaN values (indicating a threshold violation)\n",
    "df = df.dropna()"
   ]
  },
  {
   "cell_type": "code",
   "execution_count": null,
   "id": "fc186edb",
   "metadata": {},
   "outputs": [],
   "source": [
    "total_gas_flow_rate = df[\"Campus Energy Centre Boiler B-2 Gas Flow Rate (m³/h)\"].sum()"
   ]
  },
  {
   "cell_type": "code",
   "execution_count": null,
   "id": "000a6e4b",
   "metadata": {},
   "outputs": [],
   "source": [
    "print(\"Total Gas Flow Rate:\", total_gas_flow_rate)"
   ]
  },
  {
   "cell_type": "code",
   "execution_count": null,
   "id": "6b345dec",
   "metadata": {},
   "outputs": [],
   "source": [
    "print(df)\n",
    "# Save the cleaned dataframe to a new CSV file\n",
    "#df.to_csv('Cleaned_CEC_Data_2021.csv')"
   ]
  },
  {
   "cell_type": "code",
   "execution_count": null,
   "id": "b239204b",
   "metadata": {},
   "outputs": [],
   "source": [
    "boiler_2_columns = [column for column in df.columns if \"B-2\" in column or column == 'UBC Temp (°C)' or column == 'UBC Humidity (%RH)']\n",
    "boiler_2_df = df[boiler_2_columns].dropna()\n",
    "boiler_2_df.to_csv('B2_Cleaned_CEC_Data_2021.csv')"
   ]
  }
 ],
 "metadata": {
  "jupytext": {
   "cell_metadata_filter": "-all",
   "main_language": "python",
   "notebook_metadata_filter": "-all"
  }
 },
 "nbformat": 4,
 "nbformat_minor": 5
}
