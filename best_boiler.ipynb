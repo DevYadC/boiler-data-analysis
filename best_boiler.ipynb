{
 "cells": [
  {
   "cell_type": "code",
   "execution_count": null,
   "id": "40d4879c",
   "metadata": {
    "lines_to_next_cell": 2
   },
   "outputs": [],
   "source": [
    "import pandas as pd\n",
    "import numpy as np"
   ]
  },
  {
   "cell_type": "code",
   "execution_count": null,
   "id": "bcc6c5cf",
   "metadata": {
    "lines_to_next_cell": 1
   },
   "outputs": [],
   "source": [
    "file_path = 'Removed_Units_CEC_Data_2021.csv' \n",
    "data = pd.read_csv(file_path)"
   ]
  },
  {
   "cell_type": "code",
   "execution_count": null,
   "id": "eb0dcb87",
   "metadata": {},
   "outputs": [],
   "source": [
    "# Define outlier checking function for data\n",
    "def check_threshold(cell, column):\n",
    "    # Define thresholds based on column types\n",
    "    if 'UBC Temp' in column:\n",
    "        lower_bound, upper_bound = -40, 40\n",
    "    elif '°C' in column and 'UBC Temp' not in column:\n",
    "        lower_bound, upper_bound = 0, 300\n",
    "    elif \"%\" in column:\n",
    "        lower_bound, upper_bound = 0, 100\n",
    "    elif 'ppm' in column:\n",
    "        lower_bound, upper_bound = 0, 500\n",
    "    elif 'MWh' in column:\n",
    "        lower_bound, upper_bound = 0, 100\n",
    "    elif 'L/s' in column:\n",
    "        lower_bound, upper_bound = 0, 500\n",
    "    elif 'm³/h' in column:\n",
    "        lower_bound, upper_bound = 0, 2000\n",
    "    elif 'MW' in column:\n",
    "        lower_bound, upper_bound = 0, 100\n",
    "    elif 'kPa' in column:\n",
    "        lower_bound, upper_bound = 0, 300\n",
    "    else:\n",
    "        return False  \n",
    "    return cell < lower_bound or cell > upper_bound"
   ]
  },
  {
   "cell_type": "code",
   "execution_count": null,
   "id": "fb7b89e1",
   "metadata": {
    "lines_to_next_cell": 2
   },
   "outputs": [],
   "source": [
    "boiler_columns = {\n",
    "    'Boiler 1': [],\n",
    "    'Boiler 2': [],\n",
    "    'Boiler 3': []\n",
    "}"
   ]
  },
  {
   "cell_type": "code",
   "execution_count": null,
   "id": "81783abd",
   "metadata": {
    "lines_to_next_cell": 2
   },
   "outputs": [],
   "source": [
    "for col_name in data.columns:\n",
    "    if 'Boiler B-1' in col_name:\n",
    "        boiler_columns['Boiler 1'].append(col_name)\n",
    "    elif 'Boiler B-2' in col_name:\n",
    "        boiler_columns['Boiler 2'].append(col_name)\n",
    "    elif 'Boiler B-3' in col_name:\n",
    "        boiler_columns['Boiler 3'].append(col_name)"
   ]
  },
  {
   "cell_type": "code",
   "execution_count": null,
   "id": "5ec5c804",
   "metadata": {},
   "outputs": [],
   "source": [
    "missing_values = {}\n",
    "outliers_counts = {}"
   ]
  },
  {
   "cell_type": "code",
   "execution_count": null,
   "id": "3ce3e35c",
   "metadata": {},
   "outputs": [],
   "source": [
    "for boiler, cols in boiler_columns.items():\n",
    "    missing_count = 0\n",
    "    outlier_count = 0\n",
    "    \n",
    "    for col in cols:\n",
    "        # Count missing values\n",
    "        missing_count += data[col].isna().sum()\n",
    "        \n",
    "        # Count outliers by applying the check_threshold function row by row\n",
    "        for value in data[col]:\n",
    "            if pd.isna(value):  # Skip missing values\n",
    "                continue\n",
    "            if check_threshold(value, col):\n",
    "                outlier_count += 1\n",
    "                \n",
    "    missing_values[boiler] = missing_count\n",
    "    outliers_counts[boiler] = outlier_count"
   ]
  },
  {
   "cell_type": "code",
   "execution_count": null,
   "id": "ce0315a6",
   "metadata": {},
   "outputs": [],
   "source": [
    "print(\"Missing Values:\", missing_values)\n",
    "print(\"Outliers Counts:\", outliers_counts)"
   ]
  }
 ],
 "metadata": {
  "jupytext": {
   "cell_metadata_filter": "-all",
   "main_language": "python",
   "notebook_metadata_filter": "-all"
  }
 },
 "nbformat": 4,
 "nbformat_minor": 5
}
